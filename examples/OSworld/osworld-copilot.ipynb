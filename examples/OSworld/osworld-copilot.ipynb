{
 "cells": [
  {
   "cell_type": "code",
   "execution_count": 3,
   "id": "be4b2dfc-487d-4e77-896d-654158753542",
   "metadata": {},
   "outputs": [],
   "source": [
    "import json\n",
    "import os\n",
    "\n",
    "from tqdm import tqdm\n",
    "\n",
    "from desktop_env.envs.desktop_env import DesktopEnv"
   ]
  },
  {
   "cell_type": "code",
   "execution_count": 4,
   "id": "e54d9199-8461-4d26-93d8-290d645efea8",
   "metadata": {},
   "outputs": [
    {
     "name": "stdout",
     "output_type": "stream",
     "text": [
      "Left tasks:\n",
      "chrome: 46\n",
      "gimp: 26\n",
      "libreoffice_calc: 47\n",
      "libreoffice_impress: 47\n",
      "libreoffice_writer: 23\n",
      "multi_apps: 101\n",
      "os: 24\n",
      "thunderbird: 15\n",
      "vlc: 17\n",
      "vs_code: 23\n",
      "\n"
     ]
    }
   ],
   "source": [
    "test_all_meta_path = \"D:\\jcy\\OSWorld-main/evaluation_examples/test_all.json\"\n",
    "\n",
    "with open(test_all_meta_path, \"r\", encoding=\"utf-8\") as f:\n",
    "    test_all_meta = json.load(f)\n",
    "left_info = \"\"\n",
    "for domain in test_all_meta:\n",
    "    left_info += f\"{domain}: {len(test_all_meta[domain])}\\n\"\n",
    "print(f\"Left tasks:\\n{left_info}\")\n",
    "\n",
    "env = DesktopEnv(\n",
    "    path_to_vm=r\"D:\\jcy\\OSWorld-main/Ubuntu/Ubuntu.vmx\",\n",
    "    snapshot_name='os-copilot_v0',\n",
    "    action_space=\"pyautogui\",\n",
    "    require_a11y_tree=True)"
   ]
  },
  {
   "cell_type": "code",
   "execution_count": 7,
   "id": "e91c5490-2208-42af-bf96-81e48bfa9bd5",
   "metadata": {},
   "outputs": [
    {
     "name": "stdout",
     "output_type": "stream",
     "text": [
      "847a96b6-df94-4927-97e6-8cc9ea66ced7 Please help me open two workspaces \"/home/user/workspace1.code-workspace\" and \"/home/user/workspace2.code-workspace\" simultaneously in the same window.\n"
     ]
    }
   ],
   "source": [
    "i = 0\n",
    "domain = 'vs_code'\n",
    "task = test_all_meta[domain]\n",
    "example_id = task[i]\n",
    "example_id = '847a96b6-df94-4927-97e6-8cc9ea66ced7'\n",
    "config_file = os.path.join(\"D:\\jcy\\OSWorld-main/evaluation_examples\", f\"examples/{domain}/{example_id}.json\")\n",
    "with open(config_file, \"r\", encoding=\"utf-8\") as f:\n",
    "    example = json.load(f)\n",
    "print(example['id'], example['instruction'])\n",
    "\n",
    "\n",
    "\n",
    "obs = env.reset(task_config=example)\n",
    "obs, reward, done, info = env.step(\"pyautogui.rightClick()\")"
   ]
  },
  {
   "cell_type": "code",
   "execution_count": null,
   "id": "22078e07-c269-4857-ad74-f805cef7aff7",
   "metadata": {},
   "outputs": [],
   "source": [
    "def run_single_example(agent, env, example, max_steps, instruction, args, example_result_dir, scores):\n",
    "    agent.reset()\n",
    "    obs = env.reset(task_config=example)\n",
    "    done = False\n",
    "    step_idx = 0\n",
    "    env.controller.start_recording()\n",
    "    # str_table = wandb.Table(columns=[\"Screenshot\", \"A11T\", \"Modle Response\", \"Action\", \"Action timestamp\", \"Done\"])\n",
    "    while not done and step_idx < max_steps:\n",
    "        response, actions = agent.predict(\n",
    "            instruction,\n",
    "            obs\n",
    "        )\n",
    "        for action in actions:\n",
    "            # Capture the timestamp before executing the action\n",
    "            action_timestamp = datetime.datetime.now().strftime(\"%Y%m%d@%H%M%S\")\n",
    "            logger.info(\"Step %d: %s\", step_idx + 1, action)\n",
    "            obs, reward, done, info = env.step(action, args.sleep_after_execution)\n",
    "\n",
    "            logger.info(\"Reward: %.2f\", reward)\n",
    "            logger.info(\"Done: %s\", done)\n",
    "            # Save screenshot and trajectory information\n",
    "            with open(os.path.join(example_result_dir, f\"step_{step_idx + 1}_{action_timestamp}.png\"),\n",
    "                      \"wb\") as _f:\n",
    "                with open(obs['screenshot'], \"rb\") as __f:\n",
    "                    screenshot = __f.read()\n",
    "                _f.write(screenshot)\n",
    "            # get a11tree and save to wandb\n",
    "            # thisrun_a11tree = env.controller.get_accessibility_tree()\n",
    "            # str_table.add_data(wandb.Image(data_or_path=os.path.join(example_result_dir, f\"step_{step_idx + 1}_{action_timestamp}.png\"), caption=f\"step_{step_idx + 1}_{action_timestamp}\"),\n",
    "            #                 thisrun_a11tree,\n",
    "            #                 response, action, action_timestamp, done)\n",
    "            # run.log({\"Reward\": reward})\n",
    "            with open(os.path.join(example_result_dir, \"traj.jsonl\"), \"a\") as f:\n",
    "                f.write(json.dumps({\n",
    "                    \"step_num\": step_idx + 1,\n",
    "                    \"action_timestamp\": action_timestamp,\n",
    "                    \"action\": action,\n",
    "                    \"reward\": reward,\n",
    "                    \"done\": done,\n",
    "                    \"info\": info,\n",
    "                    \"screenshot_file\": f\"step_{step_idx + 1}_{action_timestamp}.png\"\n",
    "                }))\n",
    "                f.write(\"\\n\")\n",
    "            if done:\n",
    "                logger.info(\"The episode is done.\")\n",
    "                break\n",
    "        step_idx += 1\n",
    "    # run.log({\"str_trajectory\": str_table})\n",
    "    result = env.evaluate()\n",
    "    logger.info(\"Result: %.2f\", result)\n",
    "    scores.append(result)\n",
    "    with open(os.path.join(example_result_dir, \"result.txt\"), \"w\", encoding=\"utf-8\") as f:\n",
    "        f.write(f\"{result}\\n\")\n",
    "    env.controller.end_recording(os.path.join(example_result_dir, \"recording.mp4\"))\n",
    "    # run.log({\"Result\": result})"
   ]
  }
 ],
 "metadata": {
  "kernelspec": {
   "display_name": "oscopilot_env",
   "language": "python",
   "name": "oscopilot_env"
  },
  "language_info": {
   "codemirror_mode": {
    "name": "ipython",
    "version": 3
   },
   "file_extension": ".py",
   "mimetype": "text/x-python",
   "name": "python",
   "nbconvert_exporter": "python",
   "pygments_lexer": "ipython3",
   "version": "3.10.14"
  }
 },
 "nbformat": 4,
 "nbformat_minor": 5
}
